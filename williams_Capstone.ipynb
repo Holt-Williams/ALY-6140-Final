{
 "cells": [
  {
   "cell_type": "markdown",
   "metadata": {},
   "source": [
    "Author: G. Holt Williams\n",
    "\n",
    "Date: 2/19/2021\n",
    "\n",
    "Class: Aly 6140\n",
    "\n",
    "Capstone Project: BLS Data"
   ]
  },
  {
   "cell_type": "markdown",
   "metadata": {},
   "source": [
    "## Introduction\n",
    "\n",
    "This project utilizes a dataset hosted on the UCI Machine learning Repository that has data on energy efficiency of building shapes that were simulated in a specific software and can be found at https://archive.ics.uci.edu/ml/datasets/Energy+efficiency . This project starts by importing all required libraries, then performs necessary cleaning tasks, followed by visualizations and descriptive and predictive analytics. The dataset contains information on 12 building shapes that were used, with 64 variations of three other variables that change for each shape.\n"
   ]
  },
  {
   "cell_type": "markdown",
   "metadata": {},
   "source": [
    "## Data Extraction"
   ]
  },
  {
   "cell_type": "markdown",
   "metadata": {},
   "source": [
    "The first step is to load all required libraries."
   ]
  },
  {
   "cell_type": "code",
   "execution_count": 86,
   "metadata": {},
   "outputs": [],
   "source": [
    "import numpy as np\n",
    "import pandas as pd\n",
    "import seaborn as sns\n",
    "import statsmodels.api as sm\n",
    "\n",
    "from statsmodels.compat import lzip\n",
    "import matplotlib.pyplot as plt\n",
    "import statsmodels.api as sm\n",
    "from statsmodels.formula.api import ols"
   ]
  },
  {
   "cell_type": "markdown",
   "metadata": {},
   "source": [
    "Next, the data set is downloaded from the above-mentioned source and then read, and the first few rows are shown to give an idea of the shape of the dataset."
   ]
  },
  {
   "cell_type": "code",
   "execution_count": 24,
   "metadata": {},
   "outputs": [
    {
     "data": {
      "text/html": [
       "<div>\n",
       "<style scoped>\n",
       "    .dataframe tbody tr th:only-of-type {\n",
       "        vertical-align: middle;\n",
       "    }\n",
       "\n",
       "    .dataframe tbody tr th {\n",
       "        vertical-align: top;\n",
       "    }\n",
       "\n",
       "    .dataframe thead th {\n",
       "        text-align: right;\n",
       "    }\n",
       "</style>\n",
       "<table border=\"1\" class=\"dataframe\">\n",
       "  <thead>\n",
       "    <tr style=\"text-align: right;\">\n",
       "      <th></th>\n",
       "      <th>X1</th>\n",
       "      <th>X2</th>\n",
       "      <th>X3</th>\n",
       "      <th>X4</th>\n",
       "      <th>X5</th>\n",
       "      <th>X6</th>\n",
       "      <th>X7</th>\n",
       "      <th>X8</th>\n",
       "      <th>Y1</th>\n",
       "      <th>Y2</th>\n",
       "      <th>Unnamed: 10</th>\n",
       "      <th>Unnamed: 11</th>\n",
       "    </tr>\n",
       "  </thead>\n",
       "  <tbody>\n",
       "    <tr>\n",
       "      <th>0</th>\n",
       "      <td>0.98</td>\n",
       "      <td>514.5</td>\n",
       "      <td>294.0</td>\n",
       "      <td>110.25</td>\n",
       "      <td>7.0</td>\n",
       "      <td>2.0</td>\n",
       "      <td>0.0</td>\n",
       "      <td>0.0</td>\n",
       "      <td>15.55</td>\n",
       "      <td>21.33</td>\n",
       "      <td>NaN</td>\n",
       "      <td>NaN</td>\n",
       "    </tr>\n",
       "    <tr>\n",
       "      <th>1</th>\n",
       "      <td>0.98</td>\n",
       "      <td>514.5</td>\n",
       "      <td>294.0</td>\n",
       "      <td>110.25</td>\n",
       "      <td>7.0</td>\n",
       "      <td>3.0</td>\n",
       "      <td>0.0</td>\n",
       "      <td>0.0</td>\n",
       "      <td>15.55</td>\n",
       "      <td>21.33</td>\n",
       "      <td>NaN</td>\n",
       "      <td>NaN</td>\n",
       "    </tr>\n",
       "    <tr>\n",
       "      <th>2</th>\n",
       "      <td>0.98</td>\n",
       "      <td>514.5</td>\n",
       "      <td>294.0</td>\n",
       "      <td>110.25</td>\n",
       "      <td>7.0</td>\n",
       "      <td>4.0</td>\n",
       "      <td>0.0</td>\n",
       "      <td>0.0</td>\n",
       "      <td>15.55</td>\n",
       "      <td>21.33</td>\n",
       "      <td>NaN</td>\n",
       "      <td>NaN</td>\n",
       "    </tr>\n",
       "    <tr>\n",
       "      <th>3</th>\n",
       "      <td>0.98</td>\n",
       "      <td>514.5</td>\n",
       "      <td>294.0</td>\n",
       "      <td>110.25</td>\n",
       "      <td>7.0</td>\n",
       "      <td>5.0</td>\n",
       "      <td>0.0</td>\n",
       "      <td>0.0</td>\n",
       "      <td>15.55</td>\n",
       "      <td>21.33</td>\n",
       "      <td>NaN</td>\n",
       "      <td>NaN</td>\n",
       "    </tr>\n",
       "    <tr>\n",
       "      <th>4</th>\n",
       "      <td>0.90</td>\n",
       "      <td>563.5</td>\n",
       "      <td>318.5</td>\n",
       "      <td>122.50</td>\n",
       "      <td>7.0</td>\n",
       "      <td>2.0</td>\n",
       "      <td>0.0</td>\n",
       "      <td>0.0</td>\n",
       "      <td>20.84</td>\n",
       "      <td>28.28</td>\n",
       "      <td>NaN</td>\n",
       "      <td>NaN</td>\n",
       "    </tr>\n",
       "  </tbody>\n",
       "</table>\n",
       "</div>"
      ],
      "text/plain": [
       "     X1     X2     X3      X4   X5   X6   X7   X8     Y1     Y2  Unnamed: 10  \\\n",
       "0  0.98  514.5  294.0  110.25  7.0  2.0  0.0  0.0  15.55  21.33          NaN   \n",
       "1  0.98  514.5  294.0  110.25  7.0  3.0  0.0  0.0  15.55  21.33          NaN   \n",
       "2  0.98  514.5  294.0  110.25  7.0  4.0  0.0  0.0  15.55  21.33          NaN   \n",
       "3  0.98  514.5  294.0  110.25  7.0  5.0  0.0  0.0  15.55  21.33          NaN   \n",
       "4  0.90  563.5  318.5  122.50  7.0  2.0  0.0  0.0  20.84  28.28          NaN   \n",
       "\n",
       "   Unnamed: 11  \n",
       "0          NaN  \n",
       "1          NaN  \n",
       "2          NaN  \n",
       "3          NaN  \n",
       "4          NaN  "
      ]
     },
     "execution_count": 24,
     "metadata": {},
     "output_type": "execute_result"
    }
   ],
   "source": [
    "df = pd.read_csv('ENB2012_data.csv')\n",
    "df.head()"
   ]
  },
  {
   "cell_type": "markdown",
   "metadata": {},
   "source": [
    "At first glance, it appears the function that read in the dataset captured two extraneous columns and that the columns are not labelled in a descriptive manor. Both issues will be solved in the cleanup step. We can also look at the overall shape of the dataset:"
   ]
  },
  {
   "cell_type": "code",
   "execution_count": 23,
   "metadata": {},
   "outputs": [
    {
     "data": {
      "text/plain": [
       "(1296, 12)"
      ]
     },
     "execution_count": 23,
     "metadata": {},
     "output_type": "execute_result"
    }
   ],
   "source": [
    "df.shape"
   ]
  },
  {
   "cell_type": "markdown",
   "metadata": {},
   "source": [
    "and we see that the dataset has just under 1300 rows and the twelve columns shown above. However, the data source specifies there are only 768 samples. Using the tail function:"
   ]
  },
  {
   "cell_type": "code",
   "execution_count": 56,
   "metadata": {},
   "outputs": [
    {
     "data": {
      "text/html": [
       "<div>\n",
       "<style scoped>\n",
       "    .dataframe tbody tr th:only-of-type {\n",
       "        vertical-align: middle;\n",
       "    }\n",
       "\n",
       "    .dataframe tbody tr th {\n",
       "        vertical-align: top;\n",
       "    }\n",
       "\n",
       "    .dataframe thead th {\n",
       "        text-align: right;\n",
       "    }\n",
       "</style>\n",
       "<table border=\"1\" class=\"dataframe\">\n",
       "  <thead>\n",
       "    <tr style=\"text-align: right;\">\n",
       "      <th></th>\n",
       "      <th>Relative Compactness</th>\n",
       "      <th>Surface Area</th>\n",
       "      <th>Wall Area</th>\n",
       "      <th>Roof Area</th>\n",
       "      <th>Overall Height</th>\n",
       "      <th>Orientation</th>\n",
       "      <th>Glazing Area</th>\n",
       "      <th>Glazing Area Distribution</th>\n",
       "      <th>Heating Load</th>\n",
       "      <th>Cooling Load</th>\n",
       "    </tr>\n",
       "  </thead>\n",
       "  <tbody>\n",
       "    <tr>\n",
       "      <th>1291</th>\n",
       "      <td>NaN</td>\n",
       "      <td>NaN</td>\n",
       "      <td>NaN</td>\n",
       "      <td>NaN</td>\n",
       "      <td>NaN</td>\n",
       "      <td>NaN</td>\n",
       "      <td>NaN</td>\n",
       "      <td>NaN</td>\n",
       "      <td>NaN</td>\n",
       "      <td>NaN</td>\n",
       "    </tr>\n",
       "    <tr>\n",
       "      <th>1292</th>\n",
       "      <td>NaN</td>\n",
       "      <td>NaN</td>\n",
       "      <td>NaN</td>\n",
       "      <td>NaN</td>\n",
       "      <td>NaN</td>\n",
       "      <td>NaN</td>\n",
       "      <td>NaN</td>\n",
       "      <td>NaN</td>\n",
       "      <td>NaN</td>\n",
       "      <td>NaN</td>\n",
       "    </tr>\n",
       "    <tr>\n",
       "      <th>1293</th>\n",
       "      <td>NaN</td>\n",
       "      <td>NaN</td>\n",
       "      <td>NaN</td>\n",
       "      <td>NaN</td>\n",
       "      <td>NaN</td>\n",
       "      <td>NaN</td>\n",
       "      <td>NaN</td>\n",
       "      <td>NaN</td>\n",
       "      <td>NaN</td>\n",
       "      <td>NaN</td>\n",
       "    </tr>\n",
       "    <tr>\n",
       "      <th>1294</th>\n",
       "      <td>NaN</td>\n",
       "      <td>NaN</td>\n",
       "      <td>NaN</td>\n",
       "      <td>NaN</td>\n",
       "      <td>NaN</td>\n",
       "      <td>NaN</td>\n",
       "      <td>NaN</td>\n",
       "      <td>NaN</td>\n",
       "      <td>NaN</td>\n",
       "      <td>NaN</td>\n",
       "    </tr>\n",
       "    <tr>\n",
       "      <th>1295</th>\n",
       "      <td>NaN</td>\n",
       "      <td>NaN</td>\n",
       "      <td>NaN</td>\n",
       "      <td>NaN</td>\n",
       "      <td>NaN</td>\n",
       "      <td>NaN</td>\n",
       "      <td>NaN</td>\n",
       "      <td>NaN</td>\n",
       "      <td>NaN</td>\n",
       "      <td>NaN</td>\n",
       "    </tr>\n",
       "  </tbody>\n",
       "</table>\n",
       "</div>"
      ],
      "text/plain": [
       "      Relative Compactness  Surface Area  Wall Area  Roof Area  \\\n",
       "1291                   NaN           NaN        NaN        NaN   \n",
       "1292                   NaN           NaN        NaN        NaN   \n",
       "1293                   NaN           NaN        NaN        NaN   \n",
       "1294                   NaN           NaN        NaN        NaN   \n",
       "1295                   NaN           NaN        NaN        NaN   \n",
       "\n",
       "      Overall Height  Orientation  Glazing Area  Glazing Area Distribution  \\\n",
       "1291             NaN          NaN           NaN                        NaN   \n",
       "1292             NaN          NaN           NaN                        NaN   \n",
       "1293             NaN          NaN           NaN                        NaN   \n",
       "1294             NaN          NaN           NaN                        NaN   \n",
       "1295             NaN          NaN           NaN                        NaN   \n",
       "\n",
       "      Heating Load  Cooling Load  \n",
       "1291           NaN           NaN  \n",
       "1292           NaN           NaN  \n",
       "1293           NaN           NaN  \n",
       "1294           NaN           NaN  \n",
       "1295           NaN           NaN  "
      ]
     },
     "execution_count": 56,
     "metadata": {},
     "output_type": "execute_result"
    }
   ],
   "source": [
    "df.tail()"
   ]
  },
  {
   "cell_type": "markdown",
   "metadata": {},
   "source": [
    "We can see that the read function collected a bunch of rows without any data and included them. This will also need to be taken care of."
   ]
  },
  {
   "cell_type": "markdown",
   "metadata": {},
   "source": [
    "## Data Cleanup"
   ]
  },
  {
   "cell_type": "markdown",
   "metadata": {},
   "source": [
    "As mentioned above the cleaning steps required include removing extraneous columns and providing descriptive column titles. First, pandas' drop function will drop the extra columns."
   ]
  },
  {
   "cell_type": "code",
   "execution_count": 25,
   "metadata": {},
   "outputs": [
    {
     "data": {
      "text/plain": [
       "(1296, 10)"
      ]
     },
     "execution_count": 25,
     "metadata": {},
     "output_type": "execute_result"
    }
   ],
   "source": [
    "# Drop extraneously loaded columns\n",
    "df=df.drop(['Unnamed: 10','Unnamed: 11'], axis=1)\n",
    "df.shape"
   ]
  },
  {
   "cell_type": "markdown",
   "metadata": {},
   "source": [
    "The number of columsn has decreased from 12 to 10 as required. Next, the columns will be renamed according to the sources description of the data. Next, we drop the NaN rows:"
   ]
  },
  {
   "cell_type": "code",
   "execution_count": 57,
   "metadata": {},
   "outputs": [
    {
     "data": {
      "text/plain": [
       "(768, 10)"
      ]
     },
     "execution_count": 57,
     "metadata": {},
     "output_type": "execute_result"
    }
   ],
   "source": [
    "df = df.dropna()\n",
    "df.shape"
   ]
  },
  {
   "cell_type": "code",
   "execution_count": 58,
   "metadata": {},
   "outputs": [
    {
     "data": {
      "text/html": [
       "<div>\n",
       "<style scoped>\n",
       "    .dataframe tbody tr th:only-of-type {\n",
       "        vertical-align: middle;\n",
       "    }\n",
       "\n",
       "    .dataframe tbody tr th {\n",
       "        vertical-align: top;\n",
       "    }\n",
       "\n",
       "    .dataframe thead th {\n",
       "        text-align: right;\n",
       "    }\n",
       "</style>\n",
       "<table border=\"1\" class=\"dataframe\">\n",
       "  <thead>\n",
       "    <tr style=\"text-align: right;\">\n",
       "      <th></th>\n",
       "      <th>Relative Compactness</th>\n",
       "      <th>Surface Area</th>\n",
       "      <th>Wall Area</th>\n",
       "      <th>Roof Area</th>\n",
       "      <th>Overall Height</th>\n",
       "      <th>Orientation</th>\n",
       "      <th>Glazing Area</th>\n",
       "      <th>Glazing Area Distribution</th>\n",
       "      <th>Heating Load</th>\n",
       "      <th>Cooling Load</th>\n",
       "    </tr>\n",
       "  </thead>\n",
       "  <tbody>\n",
       "    <tr>\n",
       "      <th>0</th>\n",
       "      <td>0.98</td>\n",
       "      <td>514.5</td>\n",
       "      <td>294.0</td>\n",
       "      <td>110.25</td>\n",
       "      <td>7.0</td>\n",
       "      <td>2.0</td>\n",
       "      <td>0.0</td>\n",
       "      <td>0.0</td>\n",
       "      <td>15.55</td>\n",
       "      <td>21.33</td>\n",
       "    </tr>\n",
       "    <tr>\n",
       "      <th>1</th>\n",
       "      <td>0.98</td>\n",
       "      <td>514.5</td>\n",
       "      <td>294.0</td>\n",
       "      <td>110.25</td>\n",
       "      <td>7.0</td>\n",
       "      <td>3.0</td>\n",
       "      <td>0.0</td>\n",
       "      <td>0.0</td>\n",
       "      <td>15.55</td>\n",
       "      <td>21.33</td>\n",
       "    </tr>\n",
       "    <tr>\n",
       "      <th>2</th>\n",
       "      <td>0.98</td>\n",
       "      <td>514.5</td>\n",
       "      <td>294.0</td>\n",
       "      <td>110.25</td>\n",
       "      <td>7.0</td>\n",
       "      <td>4.0</td>\n",
       "      <td>0.0</td>\n",
       "      <td>0.0</td>\n",
       "      <td>15.55</td>\n",
       "      <td>21.33</td>\n",
       "    </tr>\n",
       "    <tr>\n",
       "      <th>3</th>\n",
       "      <td>0.98</td>\n",
       "      <td>514.5</td>\n",
       "      <td>294.0</td>\n",
       "      <td>110.25</td>\n",
       "      <td>7.0</td>\n",
       "      <td>5.0</td>\n",
       "      <td>0.0</td>\n",
       "      <td>0.0</td>\n",
       "      <td>15.55</td>\n",
       "      <td>21.33</td>\n",
       "    </tr>\n",
       "    <tr>\n",
       "      <th>4</th>\n",
       "      <td>0.90</td>\n",
       "      <td>563.5</td>\n",
       "      <td>318.5</td>\n",
       "      <td>122.50</td>\n",
       "      <td>7.0</td>\n",
       "      <td>2.0</td>\n",
       "      <td>0.0</td>\n",
       "      <td>0.0</td>\n",
       "      <td>20.84</td>\n",
       "      <td>28.28</td>\n",
       "    </tr>\n",
       "  </tbody>\n",
       "</table>\n",
       "</div>"
      ],
      "text/plain": [
       "   Relative Compactness  Surface Area  Wall Area  Roof Area  Overall Height  \\\n",
       "0                  0.98         514.5      294.0     110.25             7.0   \n",
       "1                  0.98         514.5      294.0     110.25             7.0   \n",
       "2                  0.98         514.5      294.0     110.25             7.0   \n",
       "3                  0.98         514.5      294.0     110.25             7.0   \n",
       "4                  0.90         563.5      318.5     122.50             7.0   \n",
       "\n",
       "   Orientation  Glazing Area  Glazing Area Distribution  Heating Load  \\\n",
       "0          2.0           0.0                        0.0         15.55   \n",
       "1          3.0           0.0                        0.0         15.55   \n",
       "2          4.0           0.0                        0.0         15.55   \n",
       "3          5.0           0.0                        0.0         15.55   \n",
       "4          2.0           0.0                        0.0         20.84   \n",
       "\n",
       "   Cooling Load  \n",
       "0         21.33  \n",
       "1         21.33  \n",
       "2         21.33  \n",
       "3         21.33  \n",
       "4         28.28  "
      ]
     },
     "execution_count": 58,
     "metadata": {},
     "output_type": "execute_result"
    }
   ],
   "source": [
    "#Rename Columns: Column names from source\n",
    "df.columns = ['Relative Compactness',\n",
    "'Surface Area',\n",
    "'Wall Area',\n",
    "'Roof Area',\n",
    " 'Overall Height',\n",
    "'Orientation',\n",
    " 'Glazing Area',\n",
    "'Glazing Area Distribution',\n",
    "'Heating Load',\n",
    "'Cooling Load']\n",
    "df.head()"
   ]
  },
  {
   "cell_type": "markdown",
   "metadata": {},
   "source": [
    "From above, the dataset is now clean and ready for visualizations. Of note, the last two variables are the two possible dependent variables for the dataset that can be predicted using the other values."
   ]
  },
  {
   "cell_type": "markdown",
   "metadata": {},
   "source": [
    "## Data Visualization, Descriptive Analytics, and Predictive Analytics"
   ]
  },
  {
   "cell_type": "markdown",
   "metadata": {},
   "source": [
    "When explroing a dataset there are a lot of visualizatiosn that can assist in showing relationships bewteen variables. One of the simplest measures that can be joined with color gradients is correlations. The correlation can be any value between -1 and 1. "
   ]
  },
  {
   "cell_type": "code",
   "execution_count": 59,
   "metadata": {},
   "outputs": [
    {
     "data": {
      "text/html": [
       "<style  type=\"text/css\" >\n",
       "    #T_f8c4e721_7925_11eb_b411_049226dabf57row0_col0 {\n",
       "            background-color:  #b40426;\n",
       "            color:  #f1f1f1;\n",
       "        }    #T_f8c4e721_7925_11eb_b411_049226dabf57row0_col1 {\n",
       "            background-color:  #3b4cc0;\n",
       "            color:  #f1f1f1;\n",
       "        }    #T_f8c4e721_7925_11eb_b411_049226dabf57row0_col2 {\n",
       "            background-color:  #4f69d9;\n",
       "            color:  #000000;\n",
       "        }    #T_f8c4e721_7925_11eb_b411_049226dabf57row0_col3 {\n",
       "            background-color:  #4a63d3;\n",
       "            color:  #f1f1f1;\n",
       "        }    #T_f8c4e721_7925_11eb_b411_049226dabf57row0_col4 {\n",
       "            background-color:  #d24b40;\n",
       "            color:  #f1f1f1;\n",
       "        }    #T_f8c4e721_7925_11eb_b411_049226dabf57row0_col5 {\n",
       "            background-color:  #3b4cc0;\n",
       "            color:  #f1f1f1;\n",
       "        }    #T_f8c4e721_7925_11eb_b411_049226dabf57row0_col6 {\n",
       "            background-color:  #3b4cc0;\n",
       "            color:  #f1f1f1;\n",
       "        }    #T_f8c4e721_7925_11eb_b411_049226dabf57row0_col7 {\n",
       "            background-color:  #3b4cc0;\n",
       "            color:  #f1f1f1;\n",
       "        }    #T_f8c4e721_7925_11eb_b411_049226dabf57row0_col8 {\n",
       "            background-color:  #ee8468;\n",
       "            color:  #000000;\n",
       "        }    #T_f8c4e721_7925_11eb_b411_049226dabf57row0_col9 {\n",
       "            background-color:  #ed8366;\n",
       "            color:  #000000;\n",
       "        }    #T_f8c4e721_7925_11eb_b411_049226dabf57row1_col0 {\n",
       "            background-color:  #3b4cc0;\n",
       "            color:  #f1f1f1;\n",
       "        }    #T_f8c4e721_7925_11eb_b411_049226dabf57row1_col1 {\n",
       "            background-color:  #b40426;\n",
       "            color:  #f1f1f1;\n",
       "        }    #T_f8c4e721_7925_11eb_b411_049226dabf57row1_col2 {\n",
       "            background-color:  #b9d0f9;\n",
       "            color:  #000000;\n",
       "        }    #T_f8c4e721_7925_11eb_b411_049226dabf57row1_col3 {\n",
       "            background-color:  #ca3b37;\n",
       "            color:  #f1f1f1;\n",
       "        }    #T_f8c4e721_7925_11eb_b411_049226dabf57row1_col4 {\n",
       "            background-color:  #4b64d5;\n",
       "            color:  #f1f1f1;\n",
       "        }    #T_f8c4e721_7925_11eb_b411_049226dabf57row1_col5 {\n",
       "            background-color:  #3b4cc0;\n",
       "            color:  #f1f1f1;\n",
       "        }    #T_f8c4e721_7925_11eb_b411_049226dabf57row1_col6 {\n",
       "            background-color:  #3b4cc0;\n",
       "            color:  #f1f1f1;\n",
       "        }    #T_f8c4e721_7925_11eb_b411_049226dabf57row1_col7 {\n",
       "            background-color:  #3b4cc0;\n",
       "            color:  #f1f1f1;\n",
       "        }    #T_f8c4e721_7925_11eb_b411_049226dabf57row1_col8 {\n",
       "            background-color:  #5d7ce6;\n",
       "            color:  #000000;\n",
       "        }    #T_f8c4e721_7925_11eb_b411_049226dabf57row1_col9 {\n",
       "            background-color:  #5a78e4;\n",
       "            color:  #000000;\n",
       "        }    #T_f8c4e721_7925_11eb_b411_049226dabf57row2_col0 {\n",
       "            background-color:  #bfd3f6;\n",
       "            color:  #000000;\n",
       "        }    #T_f8c4e721_7925_11eb_b411_049226dabf57row2_col1 {\n",
       "            background-color:  #f1ccb8;\n",
       "            color:  #000000;\n",
       "        }    #T_f8c4e721_7925_11eb_b411_049226dabf57row2_col2 {\n",
       "            background-color:  #b40426;\n",
       "            color:  #f1f1f1;\n",
       "        }    #T_f8c4e721_7925_11eb_b411_049226dabf57row2_col3 {\n",
       "            background-color:  #aec9fc;\n",
       "            color:  #000000;\n",
       "        }    #T_f8c4e721_7925_11eb_b411_049226dabf57row2_col4 {\n",
       "            background-color:  #f5c1a9;\n",
       "            color:  #000000;\n",
       "        }    #T_f8c4e721_7925_11eb_b411_049226dabf57row2_col5 {\n",
       "            background-color:  #3b4cc0;\n",
       "            color:  #f1f1f1;\n",
       "        }    #T_f8c4e721_7925_11eb_b411_049226dabf57row2_col6 {\n",
       "            background-color:  #3b4cc0;\n",
       "            color:  #f1f1f1;\n",
       "        }    #T_f8c4e721_7925_11eb_b411_049226dabf57row2_col7 {\n",
       "            background-color:  #3b4cc0;\n",
       "            color:  #f1f1f1;\n",
       "        }    #T_f8c4e721_7925_11eb_b411_049226dabf57row2_col8 {\n",
       "            background-color:  #f7a98b;\n",
       "            color:  #000000;\n",
       "        }    #T_f8c4e721_7925_11eb_b411_049226dabf57row2_col9 {\n",
       "            background-color:  #f7af91;\n",
       "            color:  #000000;\n",
       "        }    #T_f8c4e721_7925_11eb_b411_049226dabf57row3_col0 {\n",
       "            background-color:  #4c66d6;\n",
       "            color:  #000000;\n",
       "        }    #T_f8c4e721_7925_11eb_b411_049226dabf57row3_col1 {\n",
       "            background-color:  #ca3b37;\n",
       "            color:  #f1f1f1;\n",
       "        }    #T_f8c4e721_7925_11eb_b411_049226dabf57row3_col2 {\n",
       "            background-color:  #3b4cc0;\n",
       "            color:  #f1f1f1;\n",
       "        }    #T_f8c4e721_7925_11eb_b411_049226dabf57row3_col3 {\n",
       "            background-color:  #b40426;\n",
       "            color:  #f1f1f1;\n",
       "        }    #T_f8c4e721_7925_11eb_b411_049226dabf57row3_col4 {\n",
       "            background-color:  #3b4cc0;\n",
       "            color:  #f1f1f1;\n",
       "        }    #T_f8c4e721_7925_11eb_b411_049226dabf57row3_col5 {\n",
       "            background-color:  #3b4cc0;\n",
       "            color:  #f1f1f1;\n",
       "        }    #T_f8c4e721_7925_11eb_b411_049226dabf57row3_col6 {\n",
       "            background-color:  #3b4cc0;\n",
       "            color:  #f1f1f1;\n",
       "        }    #T_f8c4e721_7925_11eb_b411_049226dabf57row3_col7 {\n",
       "            background-color:  #3b4cc0;\n",
       "            color:  #f1f1f1;\n",
       "        }    #T_f8c4e721_7925_11eb_b411_049226dabf57row3_col8 {\n",
       "            background-color:  #3b4cc0;\n",
       "            color:  #f1f1f1;\n",
       "        }    #T_f8c4e721_7925_11eb_b411_049226dabf57row3_col9 {\n",
       "            background-color:  #3b4cc0;\n",
       "            color:  #f1f1f1;\n",
       "        }    #T_f8c4e721_7925_11eb_b411_049226dabf57row4_col0 {\n",
       "            background-color:  #d24b40;\n",
       "            color:  #f1f1f1;\n",
       "        }    #T_f8c4e721_7925_11eb_b411_049226dabf57row4_col1 {\n",
       "            background-color:  #4f69d9;\n",
       "            color:  #000000;\n",
       "        }    #T_f8c4e721_7925_11eb_b411_049226dabf57row4_col2 {\n",
       "            background-color:  #cdd9ec;\n",
       "            color:  #000000;\n",
       "        }    #T_f8c4e721_7925_11eb_b411_049226dabf57row4_col3 {\n",
       "            background-color:  #3b4cc0;\n",
       "            color:  #f1f1f1;\n",
       "        }    #T_f8c4e721_7925_11eb_b411_049226dabf57row4_col4 {\n",
       "            background-color:  #b40426;\n",
       "            color:  #f1f1f1;\n",
       "        }    #T_f8c4e721_7925_11eb_b411_049226dabf57row4_col5 {\n",
       "            background-color:  #3b4cc0;\n",
       "            color:  #f1f1f1;\n",
       "        }    #T_f8c4e721_7925_11eb_b411_049226dabf57row4_col6 {\n",
       "            background-color:  #3b4cc0;\n",
       "            color:  #f1f1f1;\n",
       "        }    #T_f8c4e721_7925_11eb_b411_049226dabf57row4_col7 {\n",
       "            background-color:  #3b4cc0;\n",
       "            color:  #f1f1f1;\n",
       "        }    #T_f8c4e721_7925_11eb_b411_049226dabf57row4_col8 {\n",
       "            background-color:  #ca3b37;\n",
       "            color:  #f1f1f1;\n",
       "        }    #T_f8c4e721_7925_11eb_b411_049226dabf57row4_col9 {\n",
       "            background-color:  #c83836;\n",
       "            color:  #f1f1f1;\n",
       "        }    #T_f8c4e721_7925_11eb_b411_049226dabf57row5_col0 {\n",
       "            background-color:  #dcdddd;\n",
       "            color:  #000000;\n",
       "        }    #T_f8c4e721_7925_11eb_b411_049226dabf57row5_col1 {\n",
       "            background-color:  #dcdddd;\n",
       "            color:  #000000;\n",
       "        }    #T_f8c4e721_7925_11eb_b411_049226dabf57row5_col2 {\n",
       "            background-color:  #84a7fc;\n",
       "            color:  #000000;\n",
       "        }    #T_f8c4e721_7925_11eb_b411_049226dabf57row5_col3 {\n",
       "            background-color:  #dbdcde;\n",
       "            color:  #000000;\n",
       "        }    #T_f8c4e721_7925_11eb_b411_049226dabf57row5_col4 {\n",
       "            background-color:  #dbdcde;\n",
       "            color:  #000000;\n",
       "        }    #T_f8c4e721_7925_11eb_b411_049226dabf57row5_col5 {\n",
       "            background-color:  #b40426;\n",
       "            color:  #f1f1f1;\n",
       "        }    #T_f8c4e721_7925_11eb_b411_049226dabf57row5_col6 {\n",
       "            background-color:  #3b4cc0;\n",
       "            color:  #f1f1f1;\n",
       "        }    #T_f8c4e721_7925_11eb_b411_049226dabf57row5_col7 {\n",
       "            background-color:  #3b4cc0;\n",
       "            color:  #f1f1f1;\n",
       "        }    #T_f8c4e721_7925_11eb_b411_049226dabf57row5_col8 {\n",
       "            background-color:  #d3dbe7;\n",
       "            color:  #000000;\n",
       "        }    #T_f8c4e721_7925_11eb_b411_049226dabf57row5_col9 {\n",
       "            background-color:  #d5dbe5;\n",
       "            color:  #000000;\n",
       "        }    #T_f8c4e721_7925_11eb_b411_049226dabf57row6_col0 {\n",
       "            background-color:  #dcdddd;\n",
       "            color:  #000000;\n",
       "        }    #T_f8c4e721_7925_11eb_b411_049226dabf57row6_col1 {\n",
       "            background-color:  #dcdddd;\n",
       "            color:  #000000;\n",
       "        }    #T_f8c4e721_7925_11eb_b411_049226dabf57row6_col2 {\n",
       "            background-color:  #84a7fc;\n",
       "            color:  #000000;\n",
       "        }    #T_f8c4e721_7925_11eb_b411_049226dabf57row6_col3 {\n",
       "            background-color:  #dbdcde;\n",
       "            color:  #000000;\n",
       "        }    #T_f8c4e721_7925_11eb_b411_049226dabf57row6_col4 {\n",
       "            background-color:  #dbdcde;\n",
       "            color:  #000000;\n",
       "        }    #T_f8c4e721_7925_11eb_b411_049226dabf57row6_col5 {\n",
       "            background-color:  #3b4cc0;\n",
       "            color:  #f1f1f1;\n",
       "        }    #T_f8c4e721_7925_11eb_b411_049226dabf57row6_col6 {\n",
       "            background-color:  #b40426;\n",
       "            color:  #f1f1f1;\n",
       "        }    #T_f8c4e721_7925_11eb_b411_049226dabf57row6_col7 {\n",
       "            background-color:  #80a3fa;\n",
       "            color:  #000000;\n",
       "        }    #T_f8c4e721_7925_11eb_b411_049226dabf57row6_col8 {\n",
       "            background-color:  #f2c9b4;\n",
       "            color:  #000000;\n",
       "        }    #T_f8c4e721_7925_11eb_b411_049226dabf57row6_col9 {\n",
       "            background-color:  #eed0c0;\n",
       "            color:  #000000;\n",
       "        }    #T_f8c4e721_7925_11eb_b411_049226dabf57row7_col0 {\n",
       "            background-color:  #dcdddd;\n",
       "            color:  #000000;\n",
       "        }    #T_f8c4e721_7925_11eb_b411_049226dabf57row7_col1 {\n",
       "            background-color:  #dcdddd;\n",
       "            color:  #000000;\n",
       "        }    #T_f8c4e721_7925_11eb_b411_049226dabf57row7_col2 {\n",
       "            background-color:  #84a7fc;\n",
       "            color:  #000000;\n",
       "        }    #T_f8c4e721_7925_11eb_b411_049226dabf57row7_col3 {\n",
       "            background-color:  #dbdcde;\n",
       "            color:  #000000;\n",
       "        }    #T_f8c4e721_7925_11eb_b411_049226dabf57row7_col4 {\n",
       "            background-color:  #dbdcde;\n",
       "            color:  #000000;\n",
       "        }    #T_f8c4e721_7925_11eb_b411_049226dabf57row7_col5 {\n",
       "            background-color:  #3b4cc0;\n",
       "            color:  #f1f1f1;\n",
       "        }    #T_f8c4e721_7925_11eb_b411_049226dabf57row7_col6 {\n",
       "            background-color:  #80a3fa;\n",
       "            color:  #000000;\n",
       "        }    #T_f8c4e721_7925_11eb_b411_049226dabf57row7_col7 {\n",
       "            background-color:  #b40426;\n",
       "            color:  #f1f1f1;\n",
       "        }    #T_f8c4e721_7925_11eb_b411_049226dabf57row7_col8 {\n",
       "            background-color:  #dfdbd9;\n",
       "            color:  #000000;\n",
       "        }    #T_f8c4e721_7925_11eb_b411_049226dabf57row7_col9 {\n",
       "            background-color:  #dadce0;\n",
       "            color:  #000000;\n",
       "        }    #T_f8c4e721_7925_11eb_b411_049226dabf57row8_col0 {\n",
       "            background-color:  #ec7f63;\n",
       "            color:  #000000;\n",
       "        }    #T_f8c4e721_7925_11eb_b411_049226dabf57row8_col1 {\n",
       "            background-color:  #6f92f3;\n",
       "            color:  #000000;\n",
       "        }    #T_f8c4e721_7925_11eb_b411_049226dabf57row8_col2 {\n",
       "            background-color:  #efcfbf;\n",
       "            color:  #000000;\n",
       "        }    #T_f8c4e721_7925_11eb_b411_049226dabf57row8_col3 {\n",
       "            background-color:  #4b64d5;\n",
       "            color:  #f1f1f1;\n",
       "        }    #T_f8c4e721_7925_11eb_b411_049226dabf57row8_col4 {\n",
       "            background-color:  #c83836;\n",
       "            color:  #f1f1f1;\n",
       "        }    #T_f8c4e721_7925_11eb_b411_049226dabf57row8_col5 {\n",
       "            background-color:  #3b4cc0;\n",
       "            color:  #f1f1f1;\n",
       "        }    #T_f8c4e721_7925_11eb_b411_049226dabf57row8_col6 {\n",
       "            background-color:  #94b6ff;\n",
       "            color:  #000000;\n",
       "        }    #T_f8c4e721_7925_11eb_b411_049226dabf57row8_col7 {\n",
       "            background-color:  #5572df;\n",
       "            color:  #000000;\n",
       "        }    #T_f8c4e721_7925_11eb_b411_049226dabf57row8_col8 {\n",
       "            background-color:  #b40426;\n",
       "            color:  #f1f1f1;\n",
       "        }    #T_f8c4e721_7925_11eb_b411_049226dabf57row8_col9 {\n",
       "            background-color:  #b8122a;\n",
       "            color:  #f1f1f1;\n",
       "        }    #T_f8c4e721_7925_11eb_b411_049226dabf57row9_col0 {\n",
       "            background-color:  #ea7b60;\n",
       "            color:  #000000;\n",
       "        }    #T_f8c4e721_7925_11eb_b411_049226dabf57row9_col1 {\n",
       "            background-color:  #6c8ff1;\n",
       "            color:  #000000;\n",
       "        }    #T_f8c4e721_7925_11eb_b411_049226dabf57row9_col2 {\n",
       "            background-color:  #ead4c8;\n",
       "            color:  #000000;\n",
       "        }    #T_f8c4e721_7925_11eb_b411_049226dabf57row9_col3 {\n",
       "            background-color:  #4b64d5;\n",
       "            color:  #f1f1f1;\n",
       "        }    #T_f8c4e721_7925_11eb_b411_049226dabf57row9_col4 {\n",
       "            background-color:  #c73635;\n",
       "            color:  #f1f1f1;\n",
       "        }    #T_f8c4e721_7925_11eb_b411_049226dabf57row9_col5 {\n",
       "            background-color:  #3f53c6;\n",
       "            color:  #f1f1f1;\n",
       "        }    #T_f8c4e721_7925_11eb_b411_049226dabf57row9_col6 {\n",
       "            background-color:  #7ea1fa;\n",
       "            color:  #000000;\n",
       "        }    #T_f8c4e721_7925_11eb_b411_049226dabf57row9_col7 {\n",
       "            background-color:  #4961d2;\n",
       "            color:  #f1f1f1;\n",
       "        }    #T_f8c4e721_7925_11eb_b411_049226dabf57row9_col8 {\n",
       "            background-color:  #b8122a;\n",
       "            color:  #f1f1f1;\n",
       "        }    #T_f8c4e721_7925_11eb_b411_049226dabf57row9_col9 {\n",
       "            background-color:  #b40426;\n",
       "            color:  #f1f1f1;\n",
       "        }</style><table id=\"T_f8c4e721_7925_11eb_b411_049226dabf57\" ><thead>    <tr>        <th class=\"blank level0\" ></th>        <th class=\"col_heading level0 col0\" >Relative Compactness</th>        <th class=\"col_heading level0 col1\" >Surface Area</th>        <th class=\"col_heading level0 col2\" >Wall Area</th>        <th class=\"col_heading level0 col3\" >Roof Area</th>        <th class=\"col_heading level0 col4\" >Overall Height</th>        <th class=\"col_heading level0 col5\" >Orientation</th>        <th class=\"col_heading level0 col6\" >Glazing Area</th>        <th class=\"col_heading level0 col7\" >Glazing Area Distribution</th>        <th class=\"col_heading level0 col8\" >Heating Load</th>        <th class=\"col_heading level0 col9\" >Cooling Load</th>    </tr></thead><tbody>\n",
       "                <tr>\n",
       "                        <th id=\"T_f8c4e721_7925_11eb_b411_049226dabf57level0_row0\" class=\"row_heading level0 row0\" >Relative Compactness</th>\n",
       "                        <td id=\"T_f8c4e721_7925_11eb_b411_049226dabf57row0_col0\" class=\"data row0 col0\" >1.00</td>\n",
       "                        <td id=\"T_f8c4e721_7925_11eb_b411_049226dabf57row0_col1\" class=\"data row0 col1\" >-0.99</td>\n",
       "                        <td id=\"T_f8c4e721_7925_11eb_b411_049226dabf57row0_col2\" class=\"data row0 col2\" >-0.20</td>\n",
       "                        <td id=\"T_f8c4e721_7925_11eb_b411_049226dabf57row0_col3\" class=\"data row0 col3\" >-0.87</td>\n",
       "                        <td id=\"T_f8c4e721_7925_11eb_b411_049226dabf57row0_col4\" class=\"data row0 col4\" >0.83</td>\n",
       "                        <td id=\"T_f8c4e721_7925_11eb_b411_049226dabf57row0_col5\" class=\"data row0 col5\" >0.00</td>\n",
       "                        <td id=\"T_f8c4e721_7925_11eb_b411_049226dabf57row0_col6\" class=\"data row0 col6\" >0.00</td>\n",
       "                        <td id=\"T_f8c4e721_7925_11eb_b411_049226dabf57row0_col7\" class=\"data row0 col7\" >0.00</td>\n",
       "                        <td id=\"T_f8c4e721_7925_11eb_b411_049226dabf57row0_col8\" class=\"data row0 col8\" >0.62</td>\n",
       "                        <td id=\"T_f8c4e721_7925_11eb_b411_049226dabf57row0_col9\" class=\"data row0 col9\" >0.63</td>\n",
       "            </tr>\n",
       "            <tr>\n",
       "                        <th id=\"T_f8c4e721_7925_11eb_b411_049226dabf57level0_row1\" class=\"row_heading level0 row1\" >Surface Area</th>\n",
       "                        <td id=\"T_f8c4e721_7925_11eb_b411_049226dabf57row1_col0\" class=\"data row1 col0\" >-0.99</td>\n",
       "                        <td id=\"T_f8c4e721_7925_11eb_b411_049226dabf57row1_col1\" class=\"data row1 col1\" >1.00</td>\n",
       "                        <td id=\"T_f8c4e721_7925_11eb_b411_049226dabf57row1_col2\" class=\"data row1 col2\" >0.20</td>\n",
       "                        <td id=\"T_f8c4e721_7925_11eb_b411_049226dabf57row1_col3\" class=\"data row1 col3\" >0.88</td>\n",
       "                        <td id=\"T_f8c4e721_7925_11eb_b411_049226dabf57row1_col4\" class=\"data row1 col4\" >-0.86</td>\n",
       "                        <td id=\"T_f8c4e721_7925_11eb_b411_049226dabf57row1_col5\" class=\"data row1 col5\" >0.00</td>\n",
       "                        <td id=\"T_f8c4e721_7925_11eb_b411_049226dabf57row1_col6\" class=\"data row1 col6\" >0.00</td>\n",
       "                        <td id=\"T_f8c4e721_7925_11eb_b411_049226dabf57row1_col7\" class=\"data row1 col7\" >-0.00</td>\n",
       "                        <td id=\"T_f8c4e721_7925_11eb_b411_049226dabf57row1_col8\" class=\"data row1 col8\" >-0.66</td>\n",
       "                        <td id=\"T_f8c4e721_7925_11eb_b411_049226dabf57row1_col9\" class=\"data row1 col9\" >-0.67</td>\n",
       "            </tr>\n",
       "            <tr>\n",
       "                        <th id=\"T_f8c4e721_7925_11eb_b411_049226dabf57level0_row2\" class=\"row_heading level0 row2\" >Wall Area</th>\n",
       "                        <td id=\"T_f8c4e721_7925_11eb_b411_049226dabf57row2_col0\" class=\"data row2 col0\" >-0.20</td>\n",
       "                        <td id=\"T_f8c4e721_7925_11eb_b411_049226dabf57row2_col1\" class=\"data row2 col1\" >0.20</td>\n",
       "                        <td id=\"T_f8c4e721_7925_11eb_b411_049226dabf57row2_col2\" class=\"data row2 col2\" >1.00</td>\n",
       "                        <td id=\"T_f8c4e721_7925_11eb_b411_049226dabf57row2_col3\" class=\"data row2 col3\" >-0.29</td>\n",
       "                        <td id=\"T_f8c4e721_7925_11eb_b411_049226dabf57row2_col4\" class=\"data row2 col4\" >0.28</td>\n",
       "                        <td id=\"T_f8c4e721_7925_11eb_b411_049226dabf57row2_col5\" class=\"data row2 col5\" >0.00</td>\n",
       "                        <td id=\"T_f8c4e721_7925_11eb_b411_049226dabf57row2_col6\" class=\"data row2 col6\" >-0.00</td>\n",
       "                        <td id=\"T_f8c4e721_7925_11eb_b411_049226dabf57row2_col7\" class=\"data row2 col7\" >0.00</td>\n",
       "                        <td id=\"T_f8c4e721_7925_11eb_b411_049226dabf57row2_col8\" class=\"data row2 col8\" >0.46</td>\n",
       "                        <td id=\"T_f8c4e721_7925_11eb_b411_049226dabf57row2_col9\" class=\"data row2 col9\" >0.43</td>\n",
       "            </tr>\n",
       "            <tr>\n",
       "                        <th id=\"T_f8c4e721_7925_11eb_b411_049226dabf57level0_row3\" class=\"row_heading level0 row3\" >Roof Area</th>\n",
       "                        <td id=\"T_f8c4e721_7925_11eb_b411_049226dabf57row3_col0\" class=\"data row3 col0\" >-0.87</td>\n",
       "                        <td id=\"T_f8c4e721_7925_11eb_b411_049226dabf57row3_col1\" class=\"data row3 col1\" >0.88</td>\n",
       "                        <td id=\"T_f8c4e721_7925_11eb_b411_049226dabf57row3_col2\" class=\"data row3 col2\" >-0.29</td>\n",
       "                        <td id=\"T_f8c4e721_7925_11eb_b411_049226dabf57row3_col3\" class=\"data row3 col3\" >1.00</td>\n",
       "                        <td id=\"T_f8c4e721_7925_11eb_b411_049226dabf57row3_col4\" class=\"data row3 col4\" >-0.97</td>\n",
       "                        <td id=\"T_f8c4e721_7925_11eb_b411_049226dabf57row3_col5\" class=\"data row3 col5\" >0.00</td>\n",
       "                        <td id=\"T_f8c4e721_7925_11eb_b411_049226dabf57row3_col6\" class=\"data row3 col6\" >-0.00</td>\n",
       "                        <td id=\"T_f8c4e721_7925_11eb_b411_049226dabf57row3_col7\" class=\"data row3 col7\" >-0.00</td>\n",
       "                        <td id=\"T_f8c4e721_7925_11eb_b411_049226dabf57row3_col8\" class=\"data row3 col8\" >-0.86</td>\n",
       "                        <td id=\"T_f8c4e721_7925_11eb_b411_049226dabf57row3_col9\" class=\"data row3 col9\" >-0.86</td>\n",
       "            </tr>\n",
       "            <tr>\n",
       "                        <th id=\"T_f8c4e721_7925_11eb_b411_049226dabf57level0_row4\" class=\"row_heading level0 row4\" >Overall Height</th>\n",
       "                        <td id=\"T_f8c4e721_7925_11eb_b411_049226dabf57row4_col0\" class=\"data row4 col0\" >0.83</td>\n",
       "                        <td id=\"T_f8c4e721_7925_11eb_b411_049226dabf57row4_col1\" class=\"data row4 col1\" >-0.86</td>\n",
       "                        <td id=\"T_f8c4e721_7925_11eb_b411_049226dabf57row4_col2\" class=\"data row4 col2\" >0.28</td>\n",
       "                        <td id=\"T_f8c4e721_7925_11eb_b411_049226dabf57row4_col3\" class=\"data row4 col3\" >-0.97</td>\n",
       "                        <td id=\"T_f8c4e721_7925_11eb_b411_049226dabf57row4_col4\" class=\"data row4 col4\" >1.00</td>\n",
       "                        <td id=\"T_f8c4e721_7925_11eb_b411_049226dabf57row4_col5\" class=\"data row4 col5\" >0.00</td>\n",
       "                        <td id=\"T_f8c4e721_7925_11eb_b411_049226dabf57row4_col6\" class=\"data row4 col6\" >0.00</td>\n",
       "                        <td id=\"T_f8c4e721_7925_11eb_b411_049226dabf57row4_col7\" class=\"data row4 col7\" >0.00</td>\n",
       "                        <td id=\"T_f8c4e721_7925_11eb_b411_049226dabf57row4_col8\" class=\"data row4 col8\" >0.89</td>\n",
       "                        <td id=\"T_f8c4e721_7925_11eb_b411_049226dabf57row4_col9\" class=\"data row4 col9\" >0.90</td>\n",
       "            </tr>\n",
       "            <tr>\n",
       "                        <th id=\"T_f8c4e721_7925_11eb_b411_049226dabf57level0_row5\" class=\"row_heading level0 row5\" >Orientation</th>\n",
       "                        <td id=\"T_f8c4e721_7925_11eb_b411_049226dabf57row5_col0\" class=\"data row5 col0\" >0.00</td>\n",
       "                        <td id=\"T_f8c4e721_7925_11eb_b411_049226dabf57row5_col1\" class=\"data row5 col1\" >0.00</td>\n",
       "                        <td id=\"T_f8c4e721_7925_11eb_b411_049226dabf57row5_col2\" class=\"data row5 col2\" >0.00</td>\n",
       "                        <td id=\"T_f8c4e721_7925_11eb_b411_049226dabf57row5_col3\" class=\"data row5 col3\" >0.00</td>\n",
       "                        <td id=\"T_f8c4e721_7925_11eb_b411_049226dabf57row5_col4\" class=\"data row5 col4\" >0.00</td>\n",
       "                        <td id=\"T_f8c4e721_7925_11eb_b411_049226dabf57row5_col5\" class=\"data row5 col5\" >1.00</td>\n",
       "                        <td id=\"T_f8c4e721_7925_11eb_b411_049226dabf57row5_col6\" class=\"data row5 col6\" >0.00</td>\n",
       "                        <td id=\"T_f8c4e721_7925_11eb_b411_049226dabf57row5_col7\" class=\"data row5 col7\" >0.00</td>\n",
       "                        <td id=\"T_f8c4e721_7925_11eb_b411_049226dabf57row5_col8\" class=\"data row5 col8\" >-0.00</td>\n",
       "                        <td id=\"T_f8c4e721_7925_11eb_b411_049226dabf57row5_col9\" class=\"data row5 col9\" >0.01</td>\n",
       "            </tr>\n",
       "            <tr>\n",
       "                        <th id=\"T_f8c4e721_7925_11eb_b411_049226dabf57level0_row6\" class=\"row_heading level0 row6\" >Glazing Area</th>\n",
       "                        <td id=\"T_f8c4e721_7925_11eb_b411_049226dabf57row6_col0\" class=\"data row6 col0\" >0.00</td>\n",
       "                        <td id=\"T_f8c4e721_7925_11eb_b411_049226dabf57row6_col1\" class=\"data row6 col1\" >0.00</td>\n",
       "                        <td id=\"T_f8c4e721_7925_11eb_b411_049226dabf57row6_col2\" class=\"data row6 col2\" >-0.00</td>\n",
       "                        <td id=\"T_f8c4e721_7925_11eb_b411_049226dabf57row6_col3\" class=\"data row6 col3\" >-0.00</td>\n",
       "                        <td id=\"T_f8c4e721_7925_11eb_b411_049226dabf57row6_col4\" class=\"data row6 col4\" >0.00</td>\n",
       "                        <td id=\"T_f8c4e721_7925_11eb_b411_049226dabf57row6_col5\" class=\"data row6 col5\" >0.00</td>\n",
       "                        <td id=\"T_f8c4e721_7925_11eb_b411_049226dabf57row6_col6\" class=\"data row6 col6\" >1.00</td>\n",
       "                        <td id=\"T_f8c4e721_7925_11eb_b411_049226dabf57row6_col7\" class=\"data row6 col7\" >0.21</td>\n",
       "                        <td id=\"T_f8c4e721_7925_11eb_b411_049226dabf57row6_col8\" class=\"data row6 col8\" >0.27</td>\n",
       "                        <td id=\"T_f8c4e721_7925_11eb_b411_049226dabf57row6_col9\" class=\"data row6 col9\" >0.21</td>\n",
       "            </tr>\n",
       "            <tr>\n",
       "                        <th id=\"T_f8c4e721_7925_11eb_b411_049226dabf57level0_row7\" class=\"row_heading level0 row7\" >Glazing Area Distribution</th>\n",
       "                        <td id=\"T_f8c4e721_7925_11eb_b411_049226dabf57row7_col0\" class=\"data row7 col0\" >0.00</td>\n",
       "                        <td id=\"T_f8c4e721_7925_11eb_b411_049226dabf57row7_col1\" class=\"data row7 col1\" >-0.00</td>\n",
       "                        <td id=\"T_f8c4e721_7925_11eb_b411_049226dabf57row7_col2\" class=\"data row7 col2\" >0.00</td>\n",
       "                        <td id=\"T_f8c4e721_7925_11eb_b411_049226dabf57row7_col3\" class=\"data row7 col3\" >-0.00</td>\n",
       "                        <td id=\"T_f8c4e721_7925_11eb_b411_049226dabf57row7_col4\" class=\"data row7 col4\" >0.00</td>\n",
       "                        <td id=\"T_f8c4e721_7925_11eb_b411_049226dabf57row7_col5\" class=\"data row7 col5\" >0.00</td>\n",
       "                        <td id=\"T_f8c4e721_7925_11eb_b411_049226dabf57row7_col6\" class=\"data row7 col6\" >0.21</td>\n",
       "                        <td id=\"T_f8c4e721_7925_11eb_b411_049226dabf57row7_col7\" class=\"data row7 col7\" >1.00</td>\n",
       "                        <td id=\"T_f8c4e721_7925_11eb_b411_049226dabf57row7_col8\" class=\"data row7 col8\" >0.09</td>\n",
       "                        <td id=\"T_f8c4e721_7925_11eb_b411_049226dabf57row7_col9\" class=\"data row7 col9\" >0.05</td>\n",
       "            </tr>\n",
       "            <tr>\n",
       "                        <th id=\"T_f8c4e721_7925_11eb_b411_049226dabf57level0_row8\" class=\"row_heading level0 row8\" >Heating Load</th>\n",
       "                        <td id=\"T_f8c4e721_7925_11eb_b411_049226dabf57row8_col0\" class=\"data row8 col0\" >0.62</td>\n",
       "                        <td id=\"T_f8c4e721_7925_11eb_b411_049226dabf57row8_col1\" class=\"data row8 col1\" >-0.66</td>\n",
       "                        <td id=\"T_f8c4e721_7925_11eb_b411_049226dabf57row8_col2\" class=\"data row8 col2\" >0.46</td>\n",
       "                        <td id=\"T_f8c4e721_7925_11eb_b411_049226dabf57row8_col3\" class=\"data row8 col3\" >-0.86</td>\n",
       "                        <td id=\"T_f8c4e721_7925_11eb_b411_049226dabf57row8_col4\" class=\"data row8 col4\" >0.89</td>\n",
       "                        <td id=\"T_f8c4e721_7925_11eb_b411_049226dabf57row8_col5\" class=\"data row8 col5\" >-0.00</td>\n",
       "                        <td id=\"T_f8c4e721_7925_11eb_b411_049226dabf57row8_col6\" class=\"data row8 col6\" >0.27</td>\n",
       "                        <td id=\"T_f8c4e721_7925_11eb_b411_049226dabf57row8_col7\" class=\"data row8 col7\" >0.09</td>\n",
       "                        <td id=\"T_f8c4e721_7925_11eb_b411_049226dabf57row8_col8\" class=\"data row8 col8\" >1.00</td>\n",
       "                        <td id=\"T_f8c4e721_7925_11eb_b411_049226dabf57row8_col9\" class=\"data row8 col9\" >0.98</td>\n",
       "            </tr>\n",
       "            <tr>\n",
       "                        <th id=\"T_f8c4e721_7925_11eb_b411_049226dabf57level0_row9\" class=\"row_heading level0 row9\" >Cooling Load</th>\n",
       "                        <td id=\"T_f8c4e721_7925_11eb_b411_049226dabf57row9_col0\" class=\"data row9 col0\" >0.63</td>\n",
       "                        <td id=\"T_f8c4e721_7925_11eb_b411_049226dabf57row9_col1\" class=\"data row9 col1\" >-0.67</td>\n",
       "                        <td id=\"T_f8c4e721_7925_11eb_b411_049226dabf57row9_col2\" class=\"data row9 col2\" >0.43</td>\n",
       "                        <td id=\"T_f8c4e721_7925_11eb_b411_049226dabf57row9_col3\" class=\"data row9 col3\" >-0.86</td>\n",
       "                        <td id=\"T_f8c4e721_7925_11eb_b411_049226dabf57row9_col4\" class=\"data row9 col4\" >0.90</td>\n",
       "                        <td id=\"T_f8c4e721_7925_11eb_b411_049226dabf57row9_col5\" class=\"data row9 col5\" >0.01</td>\n",
       "                        <td id=\"T_f8c4e721_7925_11eb_b411_049226dabf57row9_col6\" class=\"data row9 col6\" >0.21</td>\n",
       "                        <td id=\"T_f8c4e721_7925_11eb_b411_049226dabf57row9_col7\" class=\"data row9 col7\" >0.05</td>\n",
       "                        <td id=\"T_f8c4e721_7925_11eb_b411_049226dabf57row9_col8\" class=\"data row9 col8\" >0.98</td>\n",
       "                        <td id=\"T_f8c4e721_7925_11eb_b411_049226dabf57row9_col9\" class=\"data row9 col9\" >1.00</td>\n",
       "            </tr>\n",
       "    </tbody></table>"
      ],
      "text/plain": [
       "<pandas.io.formats.style.Styler at 0x18d43f0f700>"
      ]
     },
     "execution_count": 59,
     "metadata": {},
     "output_type": "execute_result"
    }
   ],
   "source": [
    "corr = df.corr()\n",
    "corr.style.background_gradient(cmap='coolwarm').set_precision(2)"
   ]
  },
  {
   "cell_type": "markdown",
   "metadata": {},
   "source": [
    "Usurpingly, many of these values are highly correlated with each other as they are likely related in their calculation, or in how a room would be designed. Of course, Glazing Area and Glazing Area Distribution are correlated, just as Surface Area, Relative Compactness, Roof Area, and the other size dimensions values. Looking at the dependent variable Heating Load, it is interesting to see that the correlation with Roof Area is negative, but the correlation with overall height is positive. Initial assumption should have been that those two correlations would be in the same direction, as taller rooms usually mean the room is larger, and therefore larger roofs. Next, we will look at the dependent variables, and what shapes the values follow."
   ]
  },
  {
   "cell_type": "code",
   "execution_count": 60,
   "metadata": {
    "scrolled": true
   },
   "outputs": [
    {
     "data": {
      "text/plain": [
       "<matplotlib.axes._subplots.AxesSubplot at 0x18d44091550>"
      ]
     },
     "execution_count": 60,
     "metadata": {},
     "output_type": "execute_result"
    },
    {
     "data": {
      "image/png": "[encoded data removed]",
      "text/plain": [
       "<Figure size 432x288 with 1 Axes>"
      ]
     },
     "metadata": {
      "needs_background": "light"
     },
     "output_type": "display_data"
    }
   ],
   "source": [
    "sns.kdeplot(df['Heating Load'])\n",
    "sns.kdeplot(df['Cooling Load'])"
   ]
  },
  {
   "cell_type": "markdown",
   "metadata": {},
   "source": [
    "Each of the values seem to follow a Bimodal distribution, where there are two peaks. It also seems as though the heating and cooling values are roughly the same, with the Cooling load being slightly higher. Next, we can look at a scatterplot with colors that correspond to an independent variable"
   ]
  },
  {
   "cell_type": "code",
   "execution_count": 65,
   "metadata": {
    "scrolled": false
   },
   "outputs": [
    {
     "data": {
      "text/plain": [
       "<matplotlib.axes._subplots.AxesSubplot at 0x18d44384ac0>"
      ]
     },
     "execution_count": 65,
     "metadata": {},
     "output_type": "execute_result"
    },
    {
     "data": {
      "image/png": "[encoded data removed]",
      "text/plain": [
       "<Figure size 432x288 with 1 Axes>"
      ]
     },
     "metadata": {
      "needs_background": "light"
     },
     "output_type": "display_data"
    }
   ],
   "source": [
    "sns.scatterplot(data = df, x=\"Heating Load\", y ='Cooling Load', hue=\"Relative Compactness\", style = \"Orientation\")"
   ]
  },
  {
   "cell_type": "markdown",
   "metadata": {},
   "source": [
    "The above plot has a few take aways. One being that the orientation seems to spread evenly across the different values, whereas the relative compactness seems to have two takeaways. The lower .60 value is centered around lower heating and cooling loads, while 0.75 seems to be centered around the higher values. The larger relative compactness values seem to be in the middle of the lower values. A similar graph can be created with the size attribute set too surface area which shows:"
   ]
  },
  {
   "cell_type": "code",
   "execution_count": 71,
   "metadata": {},
   "outputs": [
    {
     "data": {
      "text/plain": [
       "<matplotlib.axes._subplots.AxesSubplot at 0x18d45706e80>"
      ]
     },
     "execution_count": 71,
     "metadata": {},
     "output_type": "execute_result"
    },
    {
     "data": {
      "image/png": "[encoded data removed]",
      "text/plain": [
       "<Figure size 432x288 with 1 Axes>"
      ]
     },
     "metadata": {
      "needs_background": "light"
     },
     "output_type": "display_data"
    }
   ],
   "source": [
    "sns.scatterplot(data = df, x=\"Heating Load\", y ='Cooling Load', size=\"Surface Area\", hue=\"Surface Area\")"
   ]
  },
  {
   "cell_type": "markdown",
   "metadata": {},
   "source": [
    "That the larger surface area values are centered around lower heating and cooling loads, while the smaller values seem to be generally distributed, with a slight chunk of the 700 surface areas centered around the high values."
   ]
  },
  {
   "cell_type": "code",
   "execution_count": 76,
   "metadata": {},
   "outputs": [
    {
     "data": {
      "text/plain": [
       "<matplotlib.axes._subplots.AxesSubplot at 0x18d459cf910>"
      ]
     },
     "execution_count": 76,
     "metadata": {},
     "output_type": "execute_result"
    },
    {
     "data": {
      "image/png": "[encoded data removed]",
      "text/plain": [
       "<Figure size 432x288 with 1 Axes>"
      ]
     },
     "metadata": {
      "needs_background": "light"
     },
     "output_type": "display_data"
    }
   ],
   "source": [
    "sns.stripplot(data = df, x=\"Surface Area\", y ='Heating Load', jitter=True, hue= 'Glazing Area')"
   ]
  },
  {
   "cell_type": "markdown",
   "metadata": {},
   "source": [
    "Using the surface area to group each building shape, we can then show how much the glazing area can affect the Heat Load. For each of the building shapes as Glazing Area increases the Heating Load increases. Next, we will look at these relationships using linear modelling. The first model will use all the values to see if there are any variables that seem to have no affect."
   ]
  },
  {
   "cell_type": "code",
   "execution_count": 82,
   "metadata": {},
   "outputs": [
    {
     "name": "stdout",
     "output_type": "stream",
     "text": [
      "                                 OLS Regression Results                                \n",
      "=======================================================================================\n",
      "Dep. Variable:           Heating Load   R-squared (uncentered):                   0.985\n",
      "Model:                            OLS   Adj. R-squared (uncentered):              0.985\n",
      "Method:                 Least Squares   F-statistic:                              7347.\n",
      "Date:                Sat, 27 Feb 2021   Prob (F-statistic):                        0.00\n",
      "Time:                        14:15:41   Log-Likelihood:                         -1922.2\n",
      "No. Observations:                 768   AIC:                                      3858.\n",
      "Df Residuals:                     761   BIC:                                      3891.\n",
      "Df Model:                           7                                                  \n",
      "Covariance Type:            nonrobust                                                  \n",
      "=============================================================================================\n",
      "                                coef    std err          t      P>|t|      [0.025      0.975]\n",
      "---------------------------------------------------------------------------------------------\n",
      "Relative Compactness        -20.0442      1.806    -11.101      0.000     -23.589     -16.500\n",
      "Surface Area                 -0.0037      0.001     -2.912      0.004      -0.006      -0.001\n",
      "Wall Area                     0.0322      0.004      8.497      0.000       0.025       0.040\n",
      "Roof Area                    -0.0179      0.002     -7.352      0.000      -0.023      -0.013\n",
      "Overall Height                5.2968      0.224     23.627      0.000       4.857       5.737\n",
      "Orientation                  -0.0160      0.096     -0.167      0.867      -0.204       0.172\n",
      "Glazing Area                 19.9608      0.824     24.231      0.000      18.344      21.578\n",
      "Glazing Area Distribution     0.2063      0.071      2.916      0.004       0.067       0.345\n",
      "==============================================================================\n",
      "Omnibus:                       13.549   Durbin-Watson:                   0.608\n",
      "Prob(Omnibus):                  0.001   Jarque-Bera (JB):               23.976\n",
      "Skew:                          -0.005   Prob(JB):                     6.22e-06\n",
      "Kurtosis:                       3.866   Cond. No.                     2.75e+16\n",
      "==============================================================================\n",
      "\n",
      "Warnings:\n",
      "[1] Standard Errors assume that the covariance matrix of the errors is correctly specified.\n",
      "[2] The smallest eigenvalue is  6e-25. This might indicate that there are\n",
      "strong multicollinearity problems or that the design matrix is singular.\n"
     ]
    }
   ],
   "source": [
    "X=df[['Relative Compactness', 'Surface Area', 'Wall Area', 'Roof Area',\n",
    "       'Overall Height', 'Orientation', 'Glazing Area',\n",
    "       'Glazing Area Distribution']]\n",
    "Y=df['Heating Load']\n",
    "\n",
    "model = sm.OLS(Y, X).fit()\n",
    "predictions = model.predict(X) \n",
    "\n",
    "print_model = model.summary()\n",
    "print(print_model)\n"
   ]
  },
  {
   "cell_type": "markdown",
   "metadata": {},
   "source": [
    "There are a few takeaways from this model. First, the R^2 value is 0.985 which can be interpreted as the model predicts 98.5% of the variation in the dependent variable. All the variables, except orientation, have small p-values/ large absolute values of T values. From that, we remove the orientation variable and rerun the model."
   ]
  },
  {
   "cell_type": "code",
   "execution_count": 88,
   "metadata": {},
   "outputs": [
    {
     "name": "stdout",
     "output_type": "stream",
     "text": [
      "                                 OLS Regression Results                                \n",
      "=======================================================================================\n",
      "Dep. Variable:           Heating Load   R-squared (uncentered):                   0.985\n",
      "Model:                            OLS   Adj. R-squared (uncentered):              0.985\n",
      "Method:                 Least Squares   F-statistic:                              8582.\n",
      "Date:                Sat, 27 Feb 2021   Prob (F-statistic):                        0.00\n",
      "Time:                        14:27:11   Log-Likelihood:                         -1922.2\n",
      "No. Observations:                 768   AIC:                                      3856.\n",
      "Df Residuals:                     762   BIC:                                      3884.\n",
      "Df Model:                           6                                                  \n",
      "Covariance Type:            nonrobust                                                  \n",
      "=============================================================================================\n",
      "                                coef    std err          t      P>|t|      [0.025      0.975]\n",
      "---------------------------------------------------------------------------------------------\n",
      "Relative Compactness        -20.0741      1.796    -11.180      0.000     -23.599     -16.549\n",
      "Surface Area                 -0.0037      0.001     -2.997      0.003      -0.006      -0.001\n",
      "Wall Area                     0.0322      0.004      8.503      0.000       0.025       0.040\n",
      "Roof Area                    -0.0180      0.002     -7.375      0.000      -0.023      -0.013\n",
      "Overall Height                5.2960      0.224     23.643      0.000       4.856       5.736\n",
      "Glazing Area                 19.9608      0.823     24.246      0.000      18.345      21.577\n",
      "Glazing Area Distribution     0.2063      0.071      2.917      0.004       0.067       0.345\n",
      "==============================================================================\n",
      "Omnibus:                       13.560   Durbin-Watson:                   0.608\n",
      "Prob(Omnibus):                  0.001   Jarque-Bera (JB):               24.003\n",
      "Skew:                          -0.005   Prob(JB):                     6.14e-06\n",
      "Kurtosis:                       3.866   Cond. No.                     2.75e+16\n",
      "==============================================================================\n",
      "\n",
      "Warnings:\n",
      "[1] Standard Errors assume that the covariance matrix of the errors is correctly specified.\n",
      "[2] The smallest eigenvalue is  6e-25. This might indicate that there are\n",
      "strong multicollinearity problems or that the design matrix is singular.\n"
     ]
    }
   ],
   "source": [
    "X=df[['Relative Compactness', 'Surface Area', 'Wall Area', 'Roof Area',\n",
    "       'Overall Height', 'Glazing Area',\n",
    "       'Glazing Area Distribution']]\n",
    "Y=df['Heating Load']\n",
    "\n",
    "model = sm.OLS(Y, X).fit()\n",
    "predictions = model.predict(X) \n",
    "\n",
    "print_model = model.summary()\n",
    "print(print_model)"
   ]
  },
  {
   "cell_type": "markdown",
   "metadata": {},
   "source": [
    "Overall, there is very little difference in the values. When looking at the coefficients one could summarize relative Compactness effect by saying, the model predicts that for every 1-unit change in compactness the Heating Load will decrease by 20 units at a 95% confidence interval. Another thing to note is that the second warning suggests that there may be strong multicollinearity between the variables. This makes since, as Glazing Area Distribution is likely directly related to Glazing Area and the size dimensions. Also, relative compactness is likely a computation from the other size dimensions. By removing more variables, we may be able to remove that issue."
   ]
  },
  {
   "cell_type": "code",
   "execution_count": 103,
   "metadata": {
    "scrolled": true
   },
   "outputs": [
    {
     "name": "stdout",
     "output_type": "stream",
     "text": [
      "                                 OLS Regression Results                                \n",
      "=======================================================================================\n",
      "Dep. Variable:           Heating Load   R-squared (uncentered):                   0.983\n",
      "Model:                            OLS   Adj. R-squared (uncentered):              0.983\n",
      "Method:                 Least Squares   F-statistic:                          1.446e+04\n",
      "Date:                Sat, 27 Feb 2021   Prob (F-statistic):                        0.00\n",
      "Time:                        15:08:04   Log-Likelihood:                         -1988.6\n",
      "No. Observations:                 768   AIC:                                      3983.\n",
      "Df Residuals:                     765   BIC:                                      3997.\n",
      "Df Model:                           3                                                  \n",
      "Covariance Type:            nonrobust                                                  \n",
      "========================================================================================\n",
      "                           coef    std err          t      P>|t|      [0.025      0.975]\n",
      "----------------------------------------------------------------------------------------\n",
      "Relative Compactness   -21.1626      0.773    -27.380      0.000     -22.680     -19.645\n",
      "Overall Height           6.3437      0.097     65.507      0.000       6.154       6.534\n",
      "Glazing Area            21.6771      0.859     25.232      0.000      19.991      23.364\n",
      "==============================================================================\n",
      "Omnibus:                       23.993   Durbin-Watson:                   0.492\n",
      "Prob(Omnibus):                  0.000   Jarque-Bera (JB):               27.736\n",
      "Skew:                          -0.369   Prob(JB):                     9.49e-07\n",
      "Kurtosis:                       3.568   Cond. No.                         47.5\n",
      "==============================================================================\n",
      "\n",
      "Warnings:\n",
      "[1] Standard Errors assume that the covariance matrix of the errors is correctly specified.\n"
     ]
    }
   ],
   "source": [
    "X=df[['Relative Compactness','Overall Height', 'Glazing Area']]\n",
    "Y=df['Heating Load']\n",
    "\n",
    "model = sm.OLS(Y, X).fit()\n",
    "predictions = model.predict(X) \n",
    "\n",
    "print_model = model.summary()\n",
    "print(print_model)"
   ]
  },
  {
   "cell_type": "markdown",
   "metadata": {},
   "source": [
    "Using only relative compactness, overall height, and glazing area, the R^2 has relatively no change and the multicollinearity warning is no longer showing."
   ]
  },
  {
   "cell_type": "markdown",
   "metadata": {},
   "source": [
    "## Conclusion\n",
    "\n",
    "From the models explored above, one can see that the Relative Compactness, Overall Height, and Glazing Area have the largest impact on a per unit change to Heating Load, and most likely Cooling Load if the relationship between those two variables seen in the earlier visualizations hold true. All the variables have statistically significant effects at the 95% confidence interval on Heating Load, except for orientation, which was not statistically significant."
   ]
  }
 ],
 "metadata": {
  "kernelspec": {
   "display_name": "Python 3",
   "language": "python",
   "name": "python3"
  },
  "language_info": {
   "codemirror_mode": {
    "name": "ipython",
    "version": 3
   },
   "file_extension": ".py",
   "mimetype": "text/x-python",
   "name": "python",
   "nbconvert_exporter": "python",
   "pygments_lexer": "ipython3",
   "version": "3.8.3"
  }
 },
 "nbformat": 4,
 "nbformat_minor": 4
}
